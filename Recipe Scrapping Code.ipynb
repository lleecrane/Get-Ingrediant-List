{
 "cells": [
  {
   "cell_type": "code",
   "execution_count": 35,
   "metadata": {},
   "outputs": [
    {
     "name": "stdout",
     "output_type": "stream",
     "text": [
      "[<ul>\n",
      "                                    <li itemprop=\"recipeIngredient\">  1/2 cup cocoa</li>\n",
      "                                    <li itemprop=\"recipeIngredient\">  1/4 cup cornstarch</li>\n",
      "                                    <li itemprop=\"recipeIngredient\">  3 egg yolks</li>\n",
      "                                    <li itemprop=\"recipeIngredient\">  1 1/2 cup sugar</li>\n",
      "                                    <li itemprop=\"recipeIngredient\">  1/4 tsp salt</li>\n",
      "                                    <li itemprop=\"recipeIngredient\">  2 cups milk</li>\n",
      "                                    <li itemprop=\"recipeIngredient\">  1 tsp vanilla</li>\n",
      "                                <li>\n",
      "                    <a class=\"click\" data-href=\"/my/grocerylist/add/recipe/660881\" href=\"#\" rel=\"nofollow\">\n",
      "                        Add Ingredients to Grocery List\n",
      "                    </a>\n",
      "                </li>\n",
      "            </ul>]\n"
     ]
    }
   ],
   "source": [
    "from bs4 import BeautifulSoup\n",
    "import requests\n",
    "import re\n",
    "\n",
    "#enter url for website that you are using\n",
    "url = 'https://www.justapinch.com/recipes/grandmas-chocolate-pie.html'\n",
    "\n",
    "#create the soup\n",
    "page = requests.get(url)\n",
    "soup = BeautifulSoup(page.content, 'html5lib')\n",
    "\n",
    "lists = soup.find_all('ul')\n",
    "\n",
    "recipe_lists = []\n",
    "\n",
    "for maybe_its_food in lists:\n",
    "    first_item = maybe_its_food.find('li').text.strip()\n",
    "    if re.findall(r'^[0-9]', first_item) and len(maybe_its_food) >=3:\n",
    "    #check to see if starts with number and is greater than 3 list items \n",
    "        recipe_lists.append(maybe_its_food)\n",
    "\n",
    "print(recipe_lists)"
   ]
  },
  {
   "cell_type": "code",
   "execution_count": 38,
   "metadata": {},
   "outputs": [
    {
     "name": "stdout",
     "output_type": "stream",
     "text": [
      "['1/2 cup cocoa', '1/4 cup cornstarch', '3 egg yolks', '1 1/2 cup sugar', '1/4 tsp salt', '2 cups milk', '1 tsp vanilla', 'Add Ingredients to Grocery List']\n"
     ]
    }
   ],
   "source": [
    "dat_food = []\n",
    "\n",
    "for recipe_list in recipe_lists:\n",
    "    dat_food += [x.text.strip() for x in recipe_list.find_all('li')] #get all text list items\n",
    "\n",
    "print(dat_food)"
   ]
  }
 ],
 "metadata": {
  "kernelspec": {
   "display_name": "Python 3",
   "language": "python",
   "name": "python3"
  },
  "language_info": {
   "codemirror_mode": {
    "name": "ipython",
    "version": 3
   },
   "file_extension": ".py",
   "mimetype": "text/x-python",
   "name": "python",
   "nbconvert_exporter": "python",
   "pygments_lexer": "ipython3",
   "version": "3.7.3"
  }
 },
 "nbformat": 4,
 "nbformat_minor": 2
}

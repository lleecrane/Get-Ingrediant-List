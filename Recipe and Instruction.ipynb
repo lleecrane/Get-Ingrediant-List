{
 "cells": [
  {
   "cell_type": "code",
   "execution_count": 72,
   "metadata": {},
   "outputs": [
    {
     "name": "stdout",
     "output_type": "stream",
     "text": [
      "[<ul>\n",
      "<li><span data-amount=\"4\">4</span>–<span data-amount=\"6\">6</span> cups chicken broth (or water)</li>\n",
      "<li><span data-amount=\"3\" data-unit=\"cup\">3 cup</span>s cooked chicken</li>\n",
      "<li><span data-amount=\"2\" data-unit=\"cup\">2 cup</span>s salsa verde (see notes for a homemade version)</li>\n",
      "<li><span data-amount=\"2\" data-unit=\"cup\">2 cup</span>s spinach (can also use kale or super greens)</li>\n",
      "<li><span data-amount=\"1\">1</span>–<span data-amount=\"0.5\">1/2</span> cups cooked rice (can sub brown rice or quinoa)</li>\n",
      "<li><span data-amount=\"1\">1</span> (14oz) can great northern beans, drained</li>\n",
      "<li><span data-amount=\"2\" data-unit=\"tsp\">2 tsp</span> chili powder</li>\n",
      "<li><span data-amount=\"1\" data-unit=\"tsp\">1 tsp</span> smoked paprika</li>\n",
      "<li><span data-amount=\"1\" data-unit=\"tsp\">1 tsp</span> cumin</li>\n",
      "<li><span data-amount=\"0.25\">1/4</span>–<span data-amount=\"0.5\">1/2</span> cup cilantro, minced</li>\n",
      "</ul>]\n"
     ]
    }
   ],
   "source": [
    "#Get the list of ingredients\n",
    "from bs4 import BeautifulSoup\n",
    "import requests\n",
    "import re\n",
    "import urllib\n",
    "\n",
    "#enter url for website that you are using\n",
    "url = 'https://www.onelovelylife.com/salsa-verde-chicken-and-rice-soup/'\n",
    "\n",
    "#create the soup\n",
    "page = requests.get(url)\n",
    "soup = BeautifulSoup(page.content, 'html5lib')\n",
    "\n",
    "lists = soup.find_all('ul')\n",
    "\n",
    "recipe_lists = []\n",
    "\n",
    "essential_foods = ['salt','water','pepper','broth','flour','sugar','rice']\n",
    "\n",
    "for maybe_its_food in lists:\n",
    "    first_item = maybe_its_food.find('li').text.strip()\n",
    "    if re.findall(r'^[0-9]', first_item) and any([x in first_item for x in essential_foods]): #and len(maybe_its_food) >=3:\n",
    "    #check to see if starts with number and is greater than 3 list items \n",
    "        recipe_lists.append(maybe_its_food)\n",
    "\n",
    "print(recipe_lists)"
   ]
  },
  {
   "cell_type": "code",
   "execution_count": 75,
   "metadata": {},
   "outputs": [
    {
     "name": "stdout",
     "output_type": "stream",
     "text": [
      "['4–6 cups chicken broth (or water)', '3 cups cooked chicken', '2 cups salsa verde (see notes for a homemade version)', '2 cups spinach (can also use kale or super greens)', '1–1/2 cups cooked rice (can sub brown rice or quinoa)', '1 (14oz) can great northern beans, drained', '2 tsp chili powder', '1 tsp smoked paprika', '1 tsp cumin', '1/4–1/2 cup cilantro, minced']\n"
     ]
    }
   ],
   "source": [
    "dat_food = []\n",
    "\n",
    "#get all text list items\n",
    "for recipe_list in recipe_lists:\n",
    "    dat_food += [x.text.strip() for x in recipe_list.find_all('li')] \n",
    "\n",
    "print(dat_food)"
   ]
  },
  {
   "cell_type": "code",
   "execution_count": 81,
   "metadata": {},
   "outputs": [
    {
     "name": "stdout",
     "output_type": "stream",
     "text": [
      "['chicken broth', 'cooked chicken', 'salsa verde', 'spinach', 'cooked rice', 'great northern beans, drained', 'chili powder', 'smoked paprika', 'cumin', 'cilantro, minced']\n"
     ]
    }
   ],
   "source": [
    "#list of possible measurements\n",
    "measurements = ['cups','cup', 'yolks', 'tsp', 'tbsp', 'oz', 'can']\n",
    "\n",
    "cleaned_food = []\n",
    "\n",
    "# remove words found in measurements from dat_food\n",
    "for fud in dat_food:\n",
    "    for strip_item in measurements:\n",
    "        fud = fud.replace(strip_item, '')\n",
    "    cleaned_food.append(fud)\n",
    "\n",
    "no_numbers = []\n",
    "\n",
    "# drop any numbers or fractions before items\n",
    "# remove spaces\n",
    "# check character length is equal or less than 30\n",
    "for string_number in cleaned_food:\n",
    "    finished_string = re.sub(r'(^[\\W 0-9]+)|(\\(.+?\\))', '', string_number).strip()\n",
    "    #if len(finished_string) <= 30:\n",
    "    no_numbers.append(finished_string)\n",
    "    \n",
    "print(no_numbers)"
   ]
  },
  {
   "cell_type": "code",
   "execution_count": 122,
   "metadata": {},
   "outputs": [
    {
     "name": "stdout",
     "output_type": "stream",
     "text": [
      "https://primenow.amazon.com/search?k=chicken+broth\n",
      "https://primenow.amazon.com/search?k=cooked+chicken\n",
      "https://primenow.amazon.com/search?k=salsa+verde\n",
      "https://primenow.amazon.com/search?k=spinach\n",
      "https://primenow.amazon.com/search?k=cooked+rice\n",
      "https://primenow.amazon.com/search?k=great+northern+beans%2C+drained\n",
      "https://primenow.amazon.com/search?k=chili+powder\n",
      "https://primenow.amazon.com/search?k=smoked+paprika\n",
      "https://primenow.amazon.com/search?k=cumin\n",
      "https://primenow.amazon.com/search?k=cilantro%2C+minced\n"
     ]
    }
   ],
   "source": [
    "#Get my amazon links\n",
    "\n",
    "#add a url link to each item in list\n",
    "for ingredient in no_numbers:\n",
    "    search_stuff = urllib.parse.urlencode({'k':ingredient})\n",
    "    print('https://primenow.amazon.com/search?' + search_stuff)"
   ]
  },
  {
   "cell_type": "code",
   "execution_count": 121,
   "metadata": {},
   "outputs": [
    {
     "name": "stdout",
     "output_type": "stream",
     "text": [
      "Dice bell peppers in to cubes, mince garlic, onion and jalapeno.\n",
      "Saute bell pepper, jalapeno, garlic and onion for 5 - 7 minute or until soften\n",
      "Cook ground turkey in a pan with 2 tbsp of oil until completely brown (no raw/red meat left). Break the turkey meat apart to little pieces while browning\n",
      "Add all the cooked ingredients along with pumpkin puree, carrots, (apples if using any), canned tomato, tomato paste in a pot.\n",
      "Season with 2 tablespoon of chili powder, paprika, salt and pepper to taste. And stir all the ingredients well.\n",
      "My favorite way, so quick and easy in my multi-pot : seal the top and have the pressure setting on high. Cook for 30  minutes.\n",
      "Once it's done cooking, turn the pressure cooker to \"venting\" and wait until the pressure is all let out.\n",
      "Cook for 3 - 4 hours on high, or 5 -6 hours on low. Until the carrots are softened.\n",
      "Top with avocado, cilantro and full fat yogurt and shredded cheese or any other toppings you like.\n",
      "Serve with corn bread or your favorite crackers. ENJOY!\n"
     ]
    }
   ],
   "source": [
    "#get recipe instructions\n",
    "\n",
    "#enter url for website that you are using\n",
    "url = 'https://shuangyskitchensink.com/healthy-pumpkin-turkey-chili-whole-30/'\n",
    "\n",
    "#create the soup\n",
    "page = requests.get(url)\n",
    "soup = BeautifulSoup(page.content, 'html5lib')\n",
    "\n",
    "headers = soup.find_all(re.compile('^h[1-6]$'))\n",
    "\n",
    "instruction_header = None\n",
    "\n",
    "for header in headers: \n",
    "    if header.text.lower().strip() == 'instructions':\n",
    "        instruction_header = header\n",
    "\n",
    "for item in instruction_header.parent.find_all('li'):\n",
    "    print(item.text.strip())"
   ]
  }
 ],
 "metadata": {
  "kernelspec": {
   "display_name": "Python 3",
   "language": "python",
   "name": "python3"
  },
  "language_info": {
   "codemirror_mode": {
    "name": "ipython",
    "version": 3
   },
   "file_extension": ".py",
   "mimetype": "text/x-python",
   "name": "python",
   "nbconvert_exporter": "python",
   "pygments_lexer": "ipython3",
   "version": "3.7.3"
  }
 },
 "nbformat": 4,
 "nbformat_minor": 2
}
